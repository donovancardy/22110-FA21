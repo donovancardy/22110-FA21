{
 "cells": [
  {
   "cell_type": "markdown",
   "id": "1ac785d5",
   "metadata": {},
   "source": [
    "# heading\n",
    "\n",
    "#### heading 4\n",
    "\n",
    "_italics_\n",
    "\n",
    "*italics*\n",
    "\n",
    "**bold**\n",
    "\n",
    "1. thing\n",
    "2. thing\n",
    "\n",
    "![name](https://m.media-amazon.com/images/I/51zLZbEVSTL._AC_SL1200_.jpg)\n"
   ]
  },
  {
   "cell_type": "code",
   "execution_count": 2,
   "id": "36db563d",
   "metadata": {},
   "outputs": [],
   "source": [
    "myVAriable = 3 + 4"
   ]
  },
  {
   "cell_type": "code",
   "execution_count": 3,
   "id": "a64a7829",
   "metadata": {},
   "outputs": [
    {
     "data": {
      "text/plain": [
       "7"
      ]
     },
     "execution_count": 3,
     "metadata": {},
     "output_type": "execute_result"
    }
   ],
   "source": [
    "myVAriable"
   ]
  },
  {
   "cell_type": "markdown",
   "id": "98d3bb5b",
   "metadata": {},
   "source": []
  },
  {
   "cell_type": "code",
   "execution_count": 5,
   "id": "f639af98",
   "metadata": {},
   "outputs": [
    {
     "name": "stdout",
     "output_type": "stream",
     "text": [
      "2\n",
      "3\n",
      "4\n",
      "5\n",
      "6\n"
     ]
    }
   ],
   "source": [
    "x = [0,1,2,3,4]\n",
    "for i in x:\n",
    "    z = i + 2\n",
    "    print(z)"
   ]
  },
  {
   "cell_type": "code",
   "execution_count": 5,
   "id": "aa22bd84",
   "metadata": {},
   "outputs": [],
   "source": [
    "def sillything(x):\n",
    "    return \"silly \" + str(x)"
   ]
  },
  {
   "cell_type": "code",
   "execution_count": 6,
   "id": "7da43e54",
   "metadata": {},
   "outputs": [
    {
     "data": {
      "text/plain": [
       "'silly hi'"
      ]
     },
     "execution_count": 6,
     "metadata": {},
     "output_type": "execute_result"
    }
   ],
   "source": [
    "sillything(\"hi\")"
   ]
  },
  {
   "cell_type": "code",
   "execution_count": 8,
   "id": "27b54ada",
   "metadata": {},
   "outputs": [],
   "source": [
    "j = sillything(\"dog\")"
   ]
  },
  {
   "cell_type": "code",
   "execution_count": 9,
   "id": "f1a128ab",
   "metadata": {},
   "outputs": [
    {
     "data": {
      "text/plain": [
       "'silly dog'"
      ]
     },
     "execution_count": 9,
     "metadata": {},
     "output_type": "execute_result"
    }
   ],
   "source": [
    "j"
   ]
  }
 ],
 "metadata": {
  "kernelspec": {
   "display_name": "Python 3 (ipykernel)",
   "language": "python",
   "name": "python3"
  },
  "language_info": {
   "codemirror_mode": {
    "name": "ipython",
    "version": 3
   },
   "file_extension": ".py",
   "mimetype": "text/x-python",
   "name": "python",
   "nbconvert_exporter": "python",
   "pygments_lexer": "ipython3",
   "version": "3.9.6"
  }
 },
 "nbformat": 4,
 "nbformat_minor": 5
}
